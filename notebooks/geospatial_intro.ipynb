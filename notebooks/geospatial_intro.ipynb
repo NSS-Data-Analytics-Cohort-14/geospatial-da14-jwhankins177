{
 "cells": [
  {
   "cell_type": "code",
   "execution_count": 1,
   "metadata": {
    "scrolled": true
   },
   "outputs": [],
   "source": [
    "import pandas as pd\n",
    "import geopandas as gpd\n",
    "import matplotlib.pyplot as plt\n",
    "import folium\n",
    "from folium.plugins import MarkerCluster\n",
    "from folium.plugins import FastMarkerCluster"
   ]
  },
  {
   "cell_type": "markdown",
   "metadata": {},
   "source": [
    "#### Let's load the Nashville zipcode data and look at the first few rows\n",
    "- geopandas reads files with the `read_file()` method\n",
    "- The zipcode data was downloaded from https://data.nashville.gov/General-Government/Zip-Codes/u7r5-bpku\n"
   ]
  },
  {
   "cell_type": "code",
   "execution_count": 2,
   "metadata": {
    "scrolled": true
   },
   "outputs": [
    {
     "ename": "AttributeError",
     "evalue": "module 'fiona' has no attribute 'path'",
     "output_type": "error",
     "traceback": [
      "\u001b[1;31m---------------------------------------------------------------------------\u001b[0m",
      "\u001b[1;31mAttributeError\u001b[0m                            Traceback (most recent call last)",
      "Cell \u001b[1;32mIn[2], line 1\u001b[0m\n\u001b[1;32m----> 1\u001b[0m zipcodes \u001b[38;5;241m=\u001b[39m \u001b[43mgpd\u001b[49m\u001b[38;5;241;43m.\u001b[39;49m\u001b[43mread_file\u001b[49m\u001b[43m(\u001b[49m\u001b[38;5;124;43m'\u001b[39;49m\u001b[38;5;124;43m../data/zipcodes.geojson\u001b[39;49m\u001b[38;5;124;43m'\u001b[39;49m\u001b[43m)\u001b[49m\n\u001b[0;32m      2\u001b[0m \u001b[38;5;28mprint\u001b[39m(zipcodes\u001b[38;5;241m.\u001b[39mcrs)\n\u001b[0;32m      3\u001b[0m zipcodes\u001b[38;5;241m.\u001b[39mhead( )\n",
      "File \u001b[1;32m~\\anaconda3\\envs\\geospatial\\lib\\site-packages\\geopandas\\io\\file.py:259\u001b[0m, in \u001b[0;36m_read_file\u001b[1;34m(filename, bbox, mask, rows, engine, **kwargs)\u001b[0m\n\u001b[0;32m    256\u001b[0m     path_or_bytes \u001b[38;5;241m=\u001b[39m filename\n\u001b[0;32m    258\u001b[0m \u001b[38;5;28;01mif\u001b[39;00m engine \u001b[38;5;241m==\u001b[39m \u001b[38;5;124m\"\u001b[39m\u001b[38;5;124mfiona\u001b[39m\u001b[38;5;124m\"\u001b[39m:\n\u001b[1;32m--> 259\u001b[0m     \u001b[38;5;28;01mreturn\u001b[39;00m _read_file_fiona(\n\u001b[0;32m    260\u001b[0m         path_or_bytes, from_bytes, bbox\u001b[38;5;241m=\u001b[39mbbox, mask\u001b[38;5;241m=\u001b[39mmask, rows\u001b[38;5;241m=\u001b[39mrows, \u001b[38;5;241m*\u001b[39m\u001b[38;5;241m*\u001b[39mkwargs\n\u001b[0;32m    261\u001b[0m     )\n\u001b[0;32m    262\u001b[0m \u001b[38;5;28;01melif\u001b[39;00m engine \u001b[38;5;241m==\u001b[39m \u001b[38;5;124m\"\u001b[39m\u001b[38;5;124mpyogrio\u001b[39m\u001b[38;5;124m\"\u001b[39m:\n\u001b[0;32m    263\u001b[0m     \u001b[38;5;28;01mreturn\u001b[39;00m _read_file_pyogrio(\n\u001b[0;32m    264\u001b[0m         path_or_bytes, bbox\u001b[38;5;241m=\u001b[39mbbox, mask\u001b[38;5;241m=\u001b[39mmask, rows\u001b[38;5;241m=\u001b[39mrows, \u001b[38;5;241m*\u001b[39m\u001b[38;5;241m*\u001b[39mkwargs\n\u001b[0;32m    265\u001b[0m     )\n",
      "File \u001b[1;32m~\\anaconda3\\envs\\geospatial\\lib\\site-packages\\geopandas\\io\\file.py:280\u001b[0m, in \u001b[0;36m_read_file_fiona\u001b[1;34m(path_or_bytes, from_bytes, bbox, mask, rows, where, **kwargs)\u001b[0m\n\u001b[0;32m    274\u001b[0m     \u001b[38;5;28;01mraise\u001b[39;00m \u001b[38;5;167;01mNotImplementedError\u001b[39;00m(\u001b[38;5;124m\"\u001b[39m\u001b[38;5;124mwhere requires fiona 1.9+\u001b[39m\u001b[38;5;124m\"\u001b[39m)\n\u001b[0;32m    276\u001b[0m \u001b[38;5;28;01mif\u001b[39;00m \u001b[38;5;129;01mnot\u001b[39;00m from_bytes:\n\u001b[0;32m    277\u001b[0m     \u001b[38;5;66;03m# Opening a file via URL or file-like-object above automatically detects a\u001b[39;00m\n\u001b[0;32m    278\u001b[0m     \u001b[38;5;66;03m# zipped file. In order to match that behavior, attempt to add a zip scheme\u001b[39;00m\n\u001b[0;32m    279\u001b[0m     \u001b[38;5;66;03m# if missing.\u001b[39;00m\n\u001b[1;32m--> 280\u001b[0m     \u001b[38;5;28;01mif\u001b[39;00m \u001b[43m_is_zip\u001b[49m\u001b[43m(\u001b[49m\u001b[38;5;28;43mstr\u001b[39;49m\u001b[43m(\u001b[49m\u001b[43mpath_or_bytes\u001b[49m\u001b[43m)\u001b[49m\u001b[43m)\u001b[49m:\n\u001b[0;32m    281\u001b[0m         parsed \u001b[38;5;241m=\u001b[39m fiona\u001b[38;5;241m.\u001b[39mparse_path(\u001b[38;5;28mstr\u001b[39m(path_or_bytes))\n\u001b[0;32m    282\u001b[0m         \u001b[38;5;28;01mif\u001b[39;00m \u001b[38;5;28misinstance\u001b[39m(parsed, fiona\u001b[38;5;241m.\u001b[39mpath\u001b[38;5;241m.\u001b[39mParsedPath):\n\u001b[0;32m    283\u001b[0m             \u001b[38;5;66;03m# If fiona is able to parse the path, we can safely look at the scheme\u001b[39;00m\n\u001b[0;32m    284\u001b[0m             \u001b[38;5;66;03m# and update it to have a zip scheme if necessary.\u001b[39;00m\n",
      "File \u001b[1;32m~\\anaconda3\\envs\\geospatial\\lib\\site-packages\\geopandas\\io\\file.py:164\u001b[0m, in \u001b[0;36m_is_zip\u001b[1;34m(path)\u001b[0m\n\u001b[0;32m    162\u001b[0m \u001b[38;5;28;01mdef\u001b[39;00m\u001b[38;5;250m \u001b[39m\u001b[38;5;21m_is_zip\u001b[39m(path):\n\u001b[0;32m    163\u001b[0m \u001b[38;5;250m    \u001b[39m\u001b[38;5;124;03m\"\"\"Check if a given path is a zipfile\"\"\"\u001b[39;00m\n\u001b[1;32m--> 164\u001b[0m     parsed \u001b[38;5;241m=\u001b[39m \u001b[43mfiona\u001b[49m\u001b[38;5;241;43m.\u001b[39;49m\u001b[43mpath\u001b[49m\u001b[38;5;241m.\u001b[39mParsedPath\u001b[38;5;241m.\u001b[39mfrom_uri(path)\n\u001b[0;32m    165\u001b[0m     \u001b[38;5;28;01mreturn\u001b[39;00m (\n\u001b[0;32m    166\u001b[0m         parsed\u001b[38;5;241m.\u001b[39marchive\u001b[38;5;241m.\u001b[39mendswith(\u001b[38;5;124m\"\u001b[39m\u001b[38;5;124m.zip\u001b[39m\u001b[38;5;124m\"\u001b[39m)\n\u001b[0;32m    167\u001b[0m         \u001b[38;5;28;01mif\u001b[39;00m parsed\u001b[38;5;241m.\u001b[39marchive\n\u001b[0;32m    168\u001b[0m         \u001b[38;5;28;01melse\u001b[39;00m parsed\u001b[38;5;241m.\u001b[39mpath\u001b[38;5;241m.\u001b[39mendswith(\u001b[38;5;124m\"\u001b[39m\u001b[38;5;124m.zip\u001b[39m\u001b[38;5;124m\"\u001b[39m)\n\u001b[0;32m    169\u001b[0m     )\n",
      "\u001b[1;31mAttributeError\u001b[0m: module 'fiona' has no attribute 'path'"
     ]
    }
   ],
   "source": [
    "zipcodes = gpd.read_file('../data/zipcodes.geojson')\n",
    "print(zipcodes.crs)\n",
    "zipcodes.head( )"
   ]
  },
  {
   "cell_type": "code",
   "execution_count": 3,
   "metadata": {},
   "outputs": [
    {
     "ename": "AttributeError",
     "evalue": "module 'fiona' has no attribute 'path'",
     "output_type": "error",
     "traceback": [
      "\u001b[1;31m---------------------------------------------------------------------------\u001b[0m",
      "\u001b[1;31mAttributeError\u001b[0m                            Traceback (most recent call last)",
      "Cell \u001b[1;32mIn[3], line 2\u001b[0m\n\u001b[0;32m      1\u001b[0m \u001b[38;5;66;03m# Read GeoJSON file\u001b[39;00m\n\u001b[1;32m----> 2\u001b[0m zipcodes \u001b[38;5;241m=\u001b[39m \u001b[43mgpd\u001b[49m\u001b[38;5;241;43m.\u001b[39;49m\u001b[43mread_file\u001b[49m\u001b[43m(\u001b[49m\u001b[38;5;124;43m'\u001b[39;49m\u001b[38;5;124;43m../data/zipcodes.geojson\u001b[39;49m\u001b[38;5;124;43m'\u001b[39;49m\u001b[43m)\u001b[49m\n\u001b[0;32m      4\u001b[0m \u001b[38;5;66;03m# Print CRS\u001b[39;00m\n\u001b[0;32m      5\u001b[0m \u001b[38;5;28mprint\u001b[39m(\u001b[38;5;124m\"\u001b[39m\u001b[38;5;124mCRS:\u001b[39m\u001b[38;5;124m\"\u001b[39m, zipcodes\u001b[38;5;241m.\u001b[39mcrs)\n",
      "File \u001b[1;32m~\\anaconda3\\envs\\geospatial\\lib\\site-packages\\geopandas\\io\\file.py:259\u001b[0m, in \u001b[0;36m_read_file\u001b[1;34m(filename, bbox, mask, rows, engine, **kwargs)\u001b[0m\n\u001b[0;32m    256\u001b[0m     path_or_bytes \u001b[38;5;241m=\u001b[39m filename\n\u001b[0;32m    258\u001b[0m \u001b[38;5;28;01mif\u001b[39;00m engine \u001b[38;5;241m==\u001b[39m \u001b[38;5;124m\"\u001b[39m\u001b[38;5;124mfiona\u001b[39m\u001b[38;5;124m\"\u001b[39m:\n\u001b[1;32m--> 259\u001b[0m     \u001b[38;5;28;01mreturn\u001b[39;00m _read_file_fiona(\n\u001b[0;32m    260\u001b[0m         path_or_bytes, from_bytes, bbox\u001b[38;5;241m=\u001b[39mbbox, mask\u001b[38;5;241m=\u001b[39mmask, rows\u001b[38;5;241m=\u001b[39mrows, \u001b[38;5;241m*\u001b[39m\u001b[38;5;241m*\u001b[39mkwargs\n\u001b[0;32m    261\u001b[0m     )\n\u001b[0;32m    262\u001b[0m \u001b[38;5;28;01melif\u001b[39;00m engine \u001b[38;5;241m==\u001b[39m \u001b[38;5;124m\"\u001b[39m\u001b[38;5;124mpyogrio\u001b[39m\u001b[38;5;124m\"\u001b[39m:\n\u001b[0;32m    263\u001b[0m     \u001b[38;5;28;01mreturn\u001b[39;00m _read_file_pyogrio(\n\u001b[0;32m    264\u001b[0m         path_or_bytes, bbox\u001b[38;5;241m=\u001b[39mbbox, mask\u001b[38;5;241m=\u001b[39mmask, rows\u001b[38;5;241m=\u001b[39mrows, \u001b[38;5;241m*\u001b[39m\u001b[38;5;241m*\u001b[39mkwargs\n\u001b[0;32m    265\u001b[0m     )\n",
      "File \u001b[1;32m~\\anaconda3\\envs\\geospatial\\lib\\site-packages\\geopandas\\io\\file.py:280\u001b[0m, in \u001b[0;36m_read_file_fiona\u001b[1;34m(path_or_bytes, from_bytes, bbox, mask, rows, where, **kwargs)\u001b[0m\n\u001b[0;32m    274\u001b[0m     \u001b[38;5;28;01mraise\u001b[39;00m \u001b[38;5;167;01mNotImplementedError\u001b[39;00m(\u001b[38;5;124m\"\u001b[39m\u001b[38;5;124mwhere requires fiona 1.9+\u001b[39m\u001b[38;5;124m\"\u001b[39m)\n\u001b[0;32m    276\u001b[0m \u001b[38;5;28;01mif\u001b[39;00m \u001b[38;5;129;01mnot\u001b[39;00m from_bytes:\n\u001b[0;32m    277\u001b[0m     \u001b[38;5;66;03m# Opening a file via URL or file-like-object above automatically detects a\u001b[39;00m\n\u001b[0;32m    278\u001b[0m     \u001b[38;5;66;03m# zipped file. In order to match that behavior, attempt to add a zip scheme\u001b[39;00m\n\u001b[0;32m    279\u001b[0m     \u001b[38;5;66;03m# if missing.\u001b[39;00m\n\u001b[1;32m--> 280\u001b[0m     \u001b[38;5;28;01mif\u001b[39;00m \u001b[43m_is_zip\u001b[49m\u001b[43m(\u001b[49m\u001b[38;5;28;43mstr\u001b[39;49m\u001b[43m(\u001b[49m\u001b[43mpath_or_bytes\u001b[49m\u001b[43m)\u001b[49m\u001b[43m)\u001b[49m:\n\u001b[0;32m    281\u001b[0m         parsed \u001b[38;5;241m=\u001b[39m fiona\u001b[38;5;241m.\u001b[39mparse_path(\u001b[38;5;28mstr\u001b[39m(path_or_bytes))\n\u001b[0;32m    282\u001b[0m         \u001b[38;5;28;01mif\u001b[39;00m \u001b[38;5;28misinstance\u001b[39m(parsed, fiona\u001b[38;5;241m.\u001b[39mpath\u001b[38;5;241m.\u001b[39mParsedPath):\n\u001b[0;32m    283\u001b[0m             \u001b[38;5;66;03m# If fiona is able to parse the path, we can safely look at the scheme\u001b[39;00m\n\u001b[0;32m    284\u001b[0m             \u001b[38;5;66;03m# and update it to have a zip scheme if necessary.\u001b[39;00m\n",
      "File \u001b[1;32m~\\anaconda3\\envs\\geospatial\\lib\\site-packages\\geopandas\\io\\file.py:164\u001b[0m, in \u001b[0;36m_is_zip\u001b[1;34m(path)\u001b[0m\n\u001b[0;32m    162\u001b[0m \u001b[38;5;28;01mdef\u001b[39;00m\u001b[38;5;250m \u001b[39m\u001b[38;5;21m_is_zip\u001b[39m(path):\n\u001b[0;32m    163\u001b[0m \u001b[38;5;250m    \u001b[39m\u001b[38;5;124;03m\"\"\"Check if a given path is a zipfile\"\"\"\u001b[39;00m\n\u001b[1;32m--> 164\u001b[0m     parsed \u001b[38;5;241m=\u001b[39m \u001b[43mfiona\u001b[49m\u001b[38;5;241;43m.\u001b[39;49m\u001b[43mpath\u001b[49m\u001b[38;5;241m.\u001b[39mParsedPath\u001b[38;5;241m.\u001b[39mfrom_uri(path)\n\u001b[0;32m    165\u001b[0m     \u001b[38;5;28;01mreturn\u001b[39;00m (\n\u001b[0;32m    166\u001b[0m         parsed\u001b[38;5;241m.\u001b[39marchive\u001b[38;5;241m.\u001b[39mendswith(\u001b[38;5;124m\"\u001b[39m\u001b[38;5;124m.zip\u001b[39m\u001b[38;5;124m\"\u001b[39m)\n\u001b[0;32m    167\u001b[0m         \u001b[38;5;28;01mif\u001b[39;00m parsed\u001b[38;5;241m.\u001b[39marchive\n\u001b[0;32m    168\u001b[0m         \u001b[38;5;28;01melse\u001b[39;00m parsed\u001b[38;5;241m.\u001b[39mpath\u001b[38;5;241m.\u001b[39mendswith(\u001b[38;5;124m\"\u001b[39m\u001b[38;5;124m.zip\u001b[39m\u001b[38;5;124m\"\u001b[39m)\n\u001b[0;32m    169\u001b[0m     )\n",
      "\u001b[1;31mAttributeError\u001b[0m: module 'fiona' has no attribute 'path'"
     ]
    }
   ],
   "source": [
    "# Read GeoJSON file\n",
    "zipcodes = gpd.read_file('../data/zipcodes.geojson')\n",
    "\n",
    "# Print CRS\n",
    "print(\"CRS:\", zipcodes.crs)\n",
    "\n",
    "# Preview the first 5 rows\n",
    "print(zipcodes.head())"
   ]
  },
  {
   "cell_type": "code",
   "execution_count": null,
   "metadata": {},
   "outputs": [],
   "source": [
    "type(zipcodes)"
   ]
  },
  {
   "cell_type": "code",
   "execution_count": null,
   "metadata": {},
   "outputs": [],
   "source": [
    "pip show fiona "
   ]
  },
  {
   "cell_type": "markdown",
   "metadata": {},
   "source": [
    "#### Now let's look at the difference between calling the first geometry variable.....\n"
   ]
  },
  {
   "cell_type": "code",
   "execution_count": null,
   "metadata": {
    "scrolled": true
   },
   "outputs": [],
   "source": [
    "zipcodes.loc[0, 'geometry']"
   ]
  },
  {
   "cell_type": "markdown",
   "metadata": {},
   "source": [
    "#### ...and printing it\n"
   ]
  },
  {
   "cell_type": "code",
   "execution_count": null,
   "metadata": {
    "scrolled": true
   },
   "outputs": [],
   "source": [
    "print(zipcodes.loc[0, 'geometry'])"
   ]
  },
  {
   "cell_type": "markdown",
   "metadata": {},
   "source": [
    "#### Plotting a GeoDataFrame is as easy as calling the GeoPandas .plot() function\n"
   ]
  },
  {
   "cell_type": "code",
   "execution_count": null,
   "metadata": {},
   "outputs": [],
   "source": [
    "zipcodes.plot();"
   ]
  },
  {
   "cell_type": "markdown",
   "metadata": {},
   "source": [
    "#### Add information and styling \n",
    "- set the `column =` to a column in the GeoDataFrame to color by\n",
    "- change the [colormap](https://matplotlib.org/3.1.0/tutorials/colors/colormaps.html) \n",
    "- pass in keywords to tweak the legend created by [`matplotib`](https://matplotlib.org/stable/api/_as_gen/matplotlib.pyplot.legend.html)\n"
   ]
  },
  {
   "cell_type": "code",
   "execution_count": null,
   "metadata": {},
   "outputs": [],
   "source": [
    "#geopandas will take care of legend styling if you pass a dict of keywords\n",
    "\n",
    "leg_kwds = {'title': 'Zipcodes', 'loc': 'upper left', \n",
    "            'bbox_to_anchor': (1, 1.03), 'ncol': 2}\n",
    "\n",
    "zipcodes.plot(column = 'zip', figsize=(10, 10),\n",
    "              edgecolor = 'black',\n",
    "              legend = True, legend_kwds = leg_kwds, \n",
    "              cmap = 'Set2')\n",
    "plt.show()"
   ]
  },
  {
   "cell_type": "markdown",
   "metadata": {},
   "source": [
    "#### Next you will read in the bus stop data\n",
    "- downloaded from https://data.nashville.gov/Transportation/Regional-Transportation-Authority-Bus-Stops/p886-fnbd\n",
    "- cleaned:\n",
    "    - rename columns \n",
    "    - drop unwanted columns \n",
    "    - parse `lat` and `lng` columns from `location`\n",
    "- print the shape \n",
    "- take a look at the first 3 rows"
   ]
  },
  {
   "cell_type": "code",
   "execution_count": null,
   "metadata": {
    "scrolled": true
   },
   "outputs": [],
   "source": [
    "bus_stops = pd.read_csv('../data/busstops_cleaned.csv')\n",
    "print(bus_stops.shape)\n",
    "bus_stops.head(3)"
   ]
  },
  {
   "cell_type": "code",
   "execution_count": null,
   "metadata": {},
   "outputs": [],
   "source": [
    "bus_stops.info()"
   ]
  },
  {
   "cell_type": "markdown",
   "metadata": {},
   "source": [
    "- you want the CRS for the bus stops to match the CRS in the zipcodes GeoDataFrame \n"
   ]
  },
  {
   "cell_type": "code",
   "execution_count": null,
   "metadata": {},
   "outputs": [],
   "source": [
    "zipcodes.crs"
   ]
  },
  {
   "cell_type": "markdown",
   "metadata": {},
   "source": [
    "#### The `GeoDataFrame()` constructor needs 3 parameters:\n",
    " - a DataFrame\n",
    " - a coordinate reference system\n",
    " - a geometry (we will use the geopandas `points_from_xy()` method to create a Point geometry)"
   ]
  },
  {
   "cell_type": "code",
   "execution_count": null,
   "metadata": {
    "scrolled": true
   },
   "outputs": [],
   "source": [
    "bus_geo = gpd.GeoDataFrame(bus_stops, \n",
    "                           crs = zipcodes.crs, \n",
    "                           geometry = gpd.points_from_xy(bus_stops.lng, bus_stops.lat))"
   ]
  },
  {
   "cell_type": "code",
   "execution_count": null,
   "metadata": {},
   "outputs": [],
   "source": [
    "type(bus_geo)"
   ]
  },
  {
   "cell_type": "markdown",
   "metadata": {},
   "source": [
    "#### Now you are ready to combine bus stops and zipcodes with a spatial join\n",
    "- first a little clean up for the zipcodes\n",
    "    - just keep the zip, po_name, and geometry columns\n",
    "- then construct the join \n",
    "    - keep in mind that you want to find the **bus stops within a zip code polygon**\n",
    "    - the geometry for the new (combined) GeoDataFrame comes from the left GeoDataFrame\n"
   ]
  },
  {
   "cell_type": "code",
   "execution_count": null,
   "metadata": {},
   "outputs": [],
   "source": [
    "zipcodes = zipcodes[['zip', 'po_name', 'geometry']]"
   ]
  },
  {
   "cell_type": "code",
   "execution_count": null,
   "metadata": {
    "scrolled": true
   },
   "outputs": [],
   "source": [
    "stops_by_zip = gpd.sjoin(bus_geo, zipcodes, predicate = 'within')"
   ]
  },
  {
   "cell_type": "code",
   "execution_count": null,
   "metadata": {
    "scrolled": true
   },
   "outputs": [],
   "source": [
    "stops_by_zip.head()"
   ]
  },
  {
   "cell_type": "markdown",
   "metadata": {},
   "source": [
    "#### Now that the data is joined spatially you can count the bus stops by zip code  and see how many stops are within each polygon \n",
    "- using the `value_counts()` method\n"
   ]
  },
  {
   "cell_type": "code",
   "execution_count": null,
   "metadata": {
    "scrolled": true
   },
   "outputs": [],
   "source": [
    "stops_by_zip['zip'].value_counts()"
   ]
  },
  {
   "cell_type": "markdown",
   "metadata": {},
   "source": [
    "#### Let's take a closer look at the 272 bus stops in the 37207 zip code\n",
    "- filter the stops_by_zip data to just get bus stops in 37207\n",
    "- filter the zip code geodataframe to just the polygon (row) for 37207\n"
   ]
  },
  {
   "cell_type": "code",
   "execution_count": null,
   "metadata": {},
   "outputs": [],
   "source": [
    "stops_in_37207 = stops_by_zip.loc[stops_by_zip['zip'] == '37207']\n",
    "stops_in_37207.shape"
   ]
  },
  {
   "cell_type": "code",
   "execution_count": null,
   "metadata": {},
   "outputs": [],
   "source": [
    "polygon37207 = zipcodes.loc[zipcodes['zip'] == '37207']\n",
    "polygon37207.shape"
   ]
  },
  {
   "cell_type": "markdown",
   "metadata": {},
   "source": [
    "#### Now plot these two together\n",
    "- first plot the polygons for 37207 and make them light green\n",
    "- next plot the points for the bus stops and color them by route"
   ]
  },
  {
   "cell_type": "code",
   "execution_count": null,
   "metadata": {},
   "outputs": [],
   "source": [
    "#fig, ax = matplotlib.subplots()\n",
    "ax = polygon37207.plot(figsize = (8, 10), color = 'lightgreen')\n",
    "stops_in_37207.plot( ax = ax, column = 'route');\n",
    "plt.show();"
   ]
  },
  {
   "cell_type": "markdown",
   "metadata": {},
   "source": [
    "#### We're getting there! It would be helpful to have streets, though wouldn't it? We can add a street map with the folium package."
   ]
  },
  {
   "cell_type": "markdown",
   "metadata": {},
   "source": [
    "#### folium maps require a center point for the street map. \n",
    "- Make use of a GeoSeries attribute (.centroid) which gives the center of a polygon\n",
    "- Since there are two polygons which should we use?"
   ]
  },
  {
   "cell_type": "code",
   "execution_count": null,
   "metadata": {},
   "outputs": [],
   "source": [
    "polygon37207.geometry.centroid"
   ]
  },
  {
   "cell_type": "code",
   "execution_count": null,
   "metadata": {
    "scrolled": true
   },
   "outputs": [],
   "source": [
    "#find the center of the larger (more southern) polygon and look at it\n",
    "center = polygon37207.geometry.centroid[42]\n",
    "print(center)"
   ]
  },
  {
   "cell_type": "markdown",
   "metadata": {},
   "source": [
    "#### Folium requires a location point as an array \n",
    "- with *latitude* first\n",
    "- but shapely Points have *longitude* first "
   ]
  },
  {
   "cell_type": "code",
   "execution_count": null,
   "metadata": {
    "scrolled": true
   },
   "outputs": [],
   "source": [
    "# reverse the order when constructing the array for folium location\n",
    "area_center = [center.y, center.x]\n",
    "\n",
    "# check the order of area_center, the location for our folium map\n",
    "print(area_center)"
   ]
  },
  {
   "cell_type": "markdown",
   "metadata": {},
   "source": [
    "#### To create a folium map just call the folium `Map()` constructor\n",
    "- `location` is the only argument required by the constructor\n",
    "    - Set `area_center` as the `location` of the folium map. \n",
    "- `zoom_start` is an optional argument \n",
    "    - A setting of 12 should get us nice and close"
   ]
  },
  {
   "cell_type": "code",
   "execution_count": null,
   "metadata": {},
   "outputs": [],
   "source": [
    "#create our map of Nashville Zip Code 37207 and show it\n",
    "map_37207 = folium.Map(location =  area_center, zoom_start = 12)\n",
    "map_37207"
   ]
  },
  {
   "cell_type": "markdown",
   "metadata": {},
   "source": [
    "#### Next, let's add our 37207 polygon and bus stop markers."
   ]
  },
  {
   "cell_type": "markdown",
   "metadata": {},
   "source": [
    "#### `itterows()` is a generator that iterates through the rows of a DataFrame and returns a tuple with the row id and row values. \n",
    "- Below, we are printing the row values for the first 3 row as we iterate through the GeoDataFrame of bus stops in 37207. \n",
    "- This idea will be helpful for creating our markers!"
   ]
  },
  {
   "cell_type": "code",
   "execution_count": null,
   "metadata": {},
   "outputs": [],
   "source": [
    "i = 0\n",
    "for row_index, row_values in stops_in_37207.iterrows():\n",
    "    if i <3: \n",
    "        print('index is', row_index)\n",
    "        print('values are:')\n",
    "        print(' ')\n",
    "        print(row_values)\n",
    "        print('------------------------- ')\n",
    "        i+=1"
   ]
  },
  {
   "cell_type": "markdown",
   "metadata": {},
   "source": [
    "#### Create map_37207 again with additional features:\n",
    "- add the zipcode area outline (polygon_37207)\n",
    "- iterate through the stops_in_37207 to\n",
    "    - create location from each lat and lng\n",
    "    - create a popup from the stop column\n",
    "    - create a custom icon if you want with [font-awesome](https://fontawesome.com/v4.7.0/icons/)\n",
    "    - build a marker from each location and popup and (optionally) your custom icon \n",
    "    - add the marker to  `map_37207`\n",
    "- display `map_37207`"
   ]
  },
  {
   "cell_type": "code",
   "execution_count": null,
   "metadata": {},
   "outputs": [],
   "source": [
    "#draw our zip code area: 37207\n",
    "map_37207 = folium.Map(location =  area_center, zoom_start = 12)\n",
    "\n",
    "folium.GeoJson(polygon37207).add_to(map_37207)\n",
    "\n",
    "#iterate through stops_in_37207 to create locations and markers \n",
    "#for each bus stop\n",
    "#remember for Folium locations, lat is listed first!!\n",
    "\n",
    "for row_index, row_values in stops_in_37207.iterrows():\n",
    "    loc = [row_values['lat'], row_values['lng']]\n",
    "    pop = str(row_values['route'])\n",
    "    icon=folium.Icon(color=\"blue\",icon=\"bus\", prefix='fa')\n",
    "    \n",
    "    marker = folium.Marker(\n",
    "        location = loc, \n",
    "        popup = pop, icon = icon) \n",
    "\n",
    "    marker.add_to(map_37207)\n",
    "map_37207.save('../maps/map37207.html')\n",
    "\n",
    "#display our map\n",
    "map_37207"
   ]
  },
  {
   "cell_type": "markdown",
   "metadata": {},
   "source": [
    "#### If you have a lot of markers, you might want to use marker clusters\n",
    "- Folium has `MarkerCluster()` and `FastMarkerCluster()`\n",
    "- Construct a `MarkerCluster()` \n",
    "    - construct a `MarkerCluster()` and `.add_to()` the map\n",
    "    - when you loop through the data and create markers add those to the marker cluster\n",
    "- Construct a `FastMarkerCluster()` by passing a list of locations"
   ]
  },
  {
   "cell_type": "markdown",
   "metadata": {},
   "source": [
    "#### You can save your map as an html file and it will retain the interactive qualities"
   ]
  },
  {
   "cell_type": "code",
   "execution_count": null,
   "metadata": {},
   "outputs": [],
   "source": [
    "folium.Map?"
   ]
  },
  {
   "cell_type": "code",
   "execution_count": null,
   "metadata": {},
   "outputs": [],
   "source": [
    "cluster_map_37207 = folium.Map(location =  area_center, zoom_start = 12)\n",
    "\n",
    "#create a marker cluster\n",
    "marker_cluster = MarkerCluster().add_to(cluster_map_37207)\n",
    "\n",
    "folium.GeoJson(polygon37207).add_to(cluster_map_37207)\n",
    "\n",
    "# inside the loop add each marker to the cluster\n",
    "for row_index, row_values in stops_in_37207.iterrows():\n",
    "    loc = [row_values['lat'], row_values['lng']]\n",
    "    pop = str(row_values['route'])\n",
    "    icon=folium.Icon(color=\"blue\",icon=\"bus\", prefix='fa')\n",
    "    \n",
    "    marker = folium.Marker(\n",
    "        location = loc, \n",
    "        popup = pop,\n",
    "    icon = icon) \n",
    "    \n",
    "    marker.add_to(marker_cluster)\n",
    "\n",
    "    \n",
    "#save an interactive HTML map by calling .save()\n",
    "cluster_map_37207.save('../maps/cluster37207.html')\n",
    "\n",
    "cluster_map_37207  "
   ]
  },
  {
   "cell_type": "code",
   "execution_count": null,
   "metadata": {
    "scrolled": true
   },
   "outputs": [],
   "source": [
    "#draw our zip code area: 37207\n",
    "map_37207 = folium.Map(location =  area_center, zoom_start = 12)\n",
    "\n",
    "folium.GeoJson(polygon37207).add_to(map_37207)\n",
    "\n",
    "#create a list of locations and pass them to FastMarkerCluster()\n",
    "locations = stops_in_37207[['lat', 'lng']].values.tolist()\n",
    "map_37207.add_child(\n",
    "    FastMarkerCluster(locations)\n",
    ")\n",
    "\n",
    "\n",
    "\n",
    "#display our map\n",
    "map_37207"
   ]
  },
  {
   "cell_type": "code",
   "execution_count": null,
   "metadata": {},
   "outputs": [],
   "source": []
  }
 ],
 "metadata": {
  "kernelspec": {
   "display_name": "Python 3 (ipykernel)",
   "language": "python",
   "name": "python3"
  },
  "language_info": {
   "codemirror_mode": {
    "name": "ipython",
    "version": 3
   },
   "file_extension": ".py",
   "mimetype": "text/x-python",
   "name": "python",
   "nbconvert_exporter": "python",
   "pygments_lexer": "ipython3",
   "version": "3.10.17"
  }
 },
 "nbformat": 4,
 "nbformat_minor": 4
}
